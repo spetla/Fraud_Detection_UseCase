{
 "cells": [
  {
   "cell_type": "code",
   "execution_count": 1,
   "metadata": {},
   "outputs": [],
   "source": [
    "# !pip install pandarallel\n",
    "# !pip install pandas\n",
    "# !pip install matplotlib\n",
    "# !pip install seaborn\n",
    "# !pip install scikit-learn\n",
    "# !pip install openpyxl\n",
    "# !pip install imblearn\n",
    "# !pip install xgboost"
   ]
  },
  {
   "attachments": {},
   "cell_type": "markdown",
   "metadata": {},
   "source": [
    "# Exploratory Data Analysis Notebook"
   ]
  },
  {
   "attachments": {},
   "cell_type": "markdown",
   "metadata": {},
   "source": [
    "## High-level problem statement\n",
    "E-commerce websites often transact huge amounts of money. Whenever a huge amount of money is moved, there is a high risk of users performing fraudulent activities, e.g. using stolen credit cards, laundering money, etc. \n",
    "\n",
    "## Objective\n",
    "The goal of this challenge is to build a machine learning model that predicts the probability that the first transaction of a new user is fraudulent."
   ]
  },
  {
   "cell_type": "markdown",
   "metadata": {},
   "source": [
    "## Imports"
   ]
  },
  {
   "cell_type": "code",
   "execution_count": 2,
   "metadata": {},
   "outputs": [
    {
     "name": "stdout",
     "output_type": "stream",
     "text": [
      "INFO: Pandarallel will run on 12 workers.\n",
      "INFO: Pandarallel will use standard multiprocessing data transfer (pipe) to transfer data between the main process and workers.\n"
     ]
    }
   ],
   "source": [
    "import pandas as pd\n",
    "import numpy as np\n",
    "from pandarallel import pandarallel\n",
    "pandarallel.initialize()\n",
    "\n",
    "from matplotlib import pyplot as plt\n",
    "import seaborn as sns\n",
    "%matplotlib inline\n",
    "\n",
    "from sklearn.pipeline import Pipeline\n",
    "from sklearn.model_selection import StratifiedShuffleSplit\n",
    "from sklearn.model_selection import train_test_split\n",
    "from sklearn.preprocessing import OneHotEncoder\n",
    "from sklearn.compose import ColumnTransformer\n",
    "from sklearn.model_selection import GridSearchCV\n"
   ]
  },
  {
   "cell_type": "markdown",
   "metadata": {},
   "source": [
    "## 1. Read Data"
   ]
  },
  {
   "cell_type": "markdown",
   "metadata": {},
   "source": [
    "#### 1.1 Transaction data\n",
    "\n",
    "Important columns\n",
    "- signup_time and purchase_time are two time columns. \n",
    "- source, browser, and sex columns are categorical \n",
    "- purchase_value, age are continous columns\n",
    "- Total transactions 120K transactions"
   ]
  },
  {
   "cell_type": "code",
   "execution_count": 3,
   "metadata": {},
   "outputs": [
    {
     "name": "stdout",
     "output_type": "stream",
     "text": [
      "Total records: 120000\n"
     ]
    },
    {
     "data": {
      "text/html": [
       "<div>\n",
       "<style scoped>\n",
       "    .dataframe tbody tr th:only-of-type {\n",
       "        vertical-align: middle;\n",
       "    }\n",
       "\n",
       "    .dataframe tbody tr th {\n",
       "        vertical-align: top;\n",
       "    }\n",
       "\n",
       "    .dataframe thead th {\n",
       "        text-align: right;\n",
       "    }\n",
       "</style>\n",
       "<table border=\"1\" class=\"dataframe\">\n",
       "  <thead>\n",
       "    <tr style=\"text-align: right;\">\n",
       "      <th></th>\n",
       "      <th>user_id</th>\n",
       "      <th>signup_time</th>\n",
       "      <th>purchase_time</th>\n",
       "      <th>purchase_value</th>\n",
       "      <th>device_id</th>\n",
       "      <th>source</th>\n",
       "      <th>browser</th>\n",
       "      <th>sex</th>\n",
       "      <th>age</th>\n",
       "      <th>ip_address</th>\n",
       "      <th>class</th>\n",
       "    </tr>\n",
       "  </thead>\n",
       "  <tbody>\n",
       "    <tr>\n",
       "      <th>0</th>\n",
       "      <td>285108</td>\n",
       "      <td>2015-07-15 04:36:00</td>\n",
       "      <td>2015-09-10 14:17:00</td>\n",
       "      <td>31</td>\n",
       "      <td>HZAKVUFTDOSFD</td>\n",
       "      <td>Direct</td>\n",
       "      <td>Chrome</td>\n",
       "      <td>M</td>\n",
       "      <td>49</td>\n",
       "      <td>2.818400e+09</td>\n",
       "      <td>0</td>\n",
       "    </tr>\n",
       "    <tr>\n",
       "      <th>1</th>\n",
       "      <td>131009</td>\n",
       "      <td>2015-01-24 12:29:00</td>\n",
       "      <td>2015-04-13 04:53:00</td>\n",
       "      <td>31</td>\n",
       "      <td>XGQAJSOUJIZCC</td>\n",
       "      <td>SEO</td>\n",
       "      <td>IE</td>\n",
       "      <td>F</td>\n",
       "      <td>21</td>\n",
       "      <td>3.251268e+09</td>\n",
       "      <td>0</td>\n",
       "    </tr>\n",
       "    <tr>\n",
       "      <th>2</th>\n",
       "      <td>328855</td>\n",
       "      <td>2015-03-11 00:54:00</td>\n",
       "      <td>2015-04-05 12:23:00</td>\n",
       "      <td>16</td>\n",
       "      <td>VCCTAYDCWKZIY</td>\n",
       "      <td>Direct</td>\n",
       "      <td>IE</td>\n",
       "      <td>M</td>\n",
       "      <td>26</td>\n",
       "      <td>2.727760e+09</td>\n",
       "      <td>0</td>\n",
       "    </tr>\n",
       "    <tr>\n",
       "      <th>3</th>\n",
       "      <td>229053</td>\n",
       "      <td>2015-01-07 13:19:00</td>\n",
       "      <td>2015-01-09 10:12:00</td>\n",
       "      <td>29</td>\n",
       "      <td>MFFIHYNXCJLEY</td>\n",
       "      <td>SEO</td>\n",
       "      <td>Chrome</td>\n",
       "      <td>M</td>\n",
       "      <td>34</td>\n",
       "      <td>2.083420e+09</td>\n",
       "      <td>0</td>\n",
       "    </tr>\n",
       "    <tr>\n",
       "      <th>4</th>\n",
       "      <td>108439</td>\n",
       "      <td>2015-02-08 21:11:00</td>\n",
       "      <td>2015-04-09 14:26:00</td>\n",
       "      <td>26</td>\n",
       "      <td>WMSXWGVPNIFBM</td>\n",
       "      <td>Ads</td>\n",
       "      <td>FireFox</td>\n",
       "      <td>M</td>\n",
       "      <td>33</td>\n",
       "      <td>3.207913e+09</td>\n",
       "      <td>0</td>\n",
       "    </tr>\n",
       "  </tbody>\n",
       "</table>\n",
       "</div>"
      ],
      "text/plain": [
       "   user_id         signup_time       purchase_time  purchase_value  \\\n",
       "0   285108 2015-07-15 04:36:00 2015-09-10 14:17:00              31   \n",
       "1   131009 2015-01-24 12:29:00 2015-04-13 04:53:00              31   \n",
       "2   328855 2015-03-11 00:54:00 2015-04-05 12:23:00              16   \n",
       "3   229053 2015-01-07 13:19:00 2015-01-09 10:12:00              29   \n",
       "4   108439 2015-02-08 21:11:00 2015-04-09 14:26:00              26   \n",
       "\n",
       "       device_id  source  browser sex  age    ip_address  class  \n",
       "0  HZAKVUFTDOSFD  Direct   Chrome   M   49  2.818400e+09      0  \n",
       "1  XGQAJSOUJIZCC     SEO       IE   F   21  3.251268e+09      0  \n",
       "2  VCCTAYDCWKZIY  Direct       IE   M   26  2.727760e+09      0  \n",
       "3  MFFIHYNXCJLEY     SEO   Chrome   M   34  2.083420e+09      0  \n",
       "4  WMSXWGVPNIFBM     Ads  FireFox   M   33  3.207913e+09      0  "
      ]
     },
     "execution_count": 3,
     "metadata": {},
     "output_type": "execute_result"
    }
   ],
   "source": [
    "df_transactions = pd.read_csv(\"Candidate_tech_evaluation_candidate_copy_data science_fraud.csv\",\n",
    "                              usecols = [\"user_id\",\"signup_time\",\"purchase_time\",\"purchase_value\",\"device_id\",\n",
    "                                         \"source\",\"browser\",\"sex\",\"age\",\"ip_address\",\"class\"])\n",
    "# convert signup_time, purchase_time into datetime objects\n",
    "df_transactions[\"signup_time\"] = pd.to_datetime(df_transactions[\"signup_time\"])\n",
    "df_transactions[\"purchase_time\"] = pd.to_datetime(df_transactions[\"purchase_time\"])\n",
    "\n",
    "print(\"Total records:\",df_transactions.shape[0])\n",
    "\n",
    "df_transactions.head(5)"
   ]
  },
  {
   "cell_type": "markdown",
   "metadata": {},
   "source": [
    "#### 1.1.2 Check for nulls\n",
    "- No missing/ null values"
   ]
  },
  {
   "cell_type": "code",
   "execution_count": 4,
   "metadata": {},
   "outputs": [
    {
     "data": {
      "text/plain": [
       "user_id           0\n",
       "signup_time       0\n",
       "purchase_time     0\n",
       "purchase_value    0\n",
       "device_id         0\n",
       "source            0\n",
       "browser           0\n",
       "sex               0\n",
       "age               0\n",
       "ip_address        0\n",
       "class             0\n",
       "dtype: int64"
      ]
     },
     "execution_count": 4,
     "metadata": {},
     "output_type": "execute_result"
    }
   ],
   "source": [
    "df_transactions.isna().sum()"
   ]
  },
  {
   "cell_type": "code",
   "execution_count": 5,
   "metadata": {},
   "outputs": [
    {
     "data": {
      "text/plain": [
       "user_id           120000\n",
       "signup_time       109111\n",
       "purchase_time     100058\n",
       "purchase_value       120\n",
       "device_id         110599\n",
       "source                 3\n",
       "browser                5\n",
       "sex                    2\n",
       "age                   57\n",
       "ip_address        114134\n",
       "class                  2\n",
       "dtype: int64"
      ]
     },
     "execution_count": 5,
     "metadata": {},
     "output_type": "execute_result"
    }
   ],
   "source": [
    "df_transactions.nunique()"
   ]
  },
  {
   "cell_type": "markdown",
   "metadata": {},
   "source": [
    "#### 1.2 Read IP address and country data"
   ]
  },
  {
   "cell_type": "code",
   "execution_count": 6,
   "metadata": {},
   "outputs": [
    {
     "name": "stdout",
     "output_type": "stream",
     "text": [
      "Total records: 138846\n"
     ]
    },
    {
     "data": {
      "text/html": [
       "<div>\n",
       "<style scoped>\n",
       "    .dataframe tbody tr th:only-of-type {\n",
       "        vertical-align: middle;\n",
       "    }\n",
       "\n",
       "    .dataframe tbody tr th {\n",
       "        vertical-align: top;\n",
       "    }\n",
       "\n",
       "    .dataframe thead th {\n",
       "        text-align: right;\n",
       "    }\n",
       "</style>\n",
       "<table border=\"1\" class=\"dataframe\">\n",
       "  <thead>\n",
       "    <tr style=\"text-align: right;\">\n",
       "      <th></th>\n",
       "      <th>lower_bound_ip_address</th>\n",
       "      <th>upper_bound_ip_address</th>\n",
       "      <th>country</th>\n",
       "    </tr>\n",
       "  </thead>\n",
       "  <tbody>\n",
       "    <tr>\n",
       "      <th>0</th>\n",
       "      <td>16777216</td>\n",
       "      <td>16777471</td>\n",
       "      <td>Australia</td>\n",
       "    </tr>\n",
       "    <tr>\n",
       "      <th>1</th>\n",
       "      <td>16777472</td>\n",
       "      <td>16777727</td>\n",
       "      <td>China</td>\n",
       "    </tr>\n",
       "    <tr>\n",
       "      <th>2</th>\n",
       "      <td>16777728</td>\n",
       "      <td>16778239</td>\n",
       "      <td>China</td>\n",
       "    </tr>\n",
       "    <tr>\n",
       "      <th>3</th>\n",
       "      <td>16778240</td>\n",
       "      <td>16779263</td>\n",
       "      <td>Australia</td>\n",
       "    </tr>\n",
       "    <tr>\n",
       "      <th>4</th>\n",
       "      <td>16779264</td>\n",
       "      <td>16781311</td>\n",
       "      <td>China</td>\n",
       "    </tr>\n",
       "  </tbody>\n",
       "</table>\n",
       "</div>"
      ],
      "text/plain": [
       "   lower_bound_ip_address  upper_bound_ip_address    country\n",
       "0                16777216                16777471  Australia\n",
       "1                16777472                16777727      China\n",
       "2                16777728                16778239      China\n",
       "3                16778240                16779263  Australia\n",
       "4                16779264                16781311      China"
      ]
     },
     "execution_count": 6,
     "metadata": {},
     "output_type": "execute_result"
    }
   ],
   "source": [
    "df_ip_country = pd.read_excel(\"Candidate_tech_evaluation_candidate_copy_datascience_IpAddress_to_Country.xlsx\")\n",
    "print(\"Total records:\",df_ip_country.shape[0])\n",
    "df_ip_country.head(5)"
   ]
  },
  {
   "cell_type": "markdown",
   "metadata": {},
   "source": [
    "#### 1.2.2 Check for nulls\n",
    "- No missing/ null values"
   ]
  },
  {
   "cell_type": "code",
   "execution_count": 7,
   "metadata": {},
   "outputs": [
    {
     "data": {
      "text/plain": [
       "lower_bound_ip_address    0\n",
       "upper_bound_ip_address    0\n",
       "country                   0\n",
       "dtype: int64"
      ]
     },
     "execution_count": 7,
     "metadata": {},
     "output_type": "execute_result"
    }
   ],
   "source": [
    "df_ip_country.isna().sum()"
   ]
  },
  {
   "cell_type": "code",
   "execution_count": 8,
   "metadata": {},
   "outputs": [
    {
     "data": {
      "text/plain": [
       "lower_bound_ip_address    138846\n",
       "upper_bound_ip_address    138846\n",
       "country                      235\n",
       "dtype: int64"
      ]
     },
     "execution_count": 8,
     "metadata": {},
     "output_type": "execute_result"
    }
   ],
   "source": [
    "df_ip_country.nunique()"
   ]
  },
  {
   "cell_type": "markdown",
   "metadata": {},
   "source": [
    "#### 1.3 Join both dataframes\n",
    "\n",
    "- As the two data frames are huge and doing a join will take some time\n",
    "- Used pandas parallel apply to parallelize the join\n",
    "- There are few ip addresses which doesnot match with the ip addresses in the ip-country file\n",
    "- Assigned \"UNK\" - unknown as country for records for which we didnot find a country value in ip-country file\n",
    "- There are about \"17418\" such \"UNK\" records"
   ]
  },
  {
   "cell_type": "code",
   "execution_count": 9,
   "metadata": {},
   "outputs": [],
   "source": [
    "def custom_join(transaction_ip):\n",
    "    '''\n",
    "    transaction_ip : ip address from transaction  \n",
    "    '''\n",
    "    country_list = df_ip_country[(df_ip_country[\"lower_bound_ip_address\"]<=transaction_ip) &\n",
    "                                 (df_ip_country[\"upper_bound_ip_address\"]>=transaction_ip)][\"country\"].values\n",
    "    if len(country_list) == 0:\n",
    "        return \"UNK\"\n",
    "    else:\n",
    "        return  country_list[0]"
   ]
  },
  {
   "cell_type": "code",
   "execution_count": 10,
   "metadata": {},
   "outputs": [
    {
     "name": "stdout",
     "output_type": "stream",
     "text": [
      "CPU times: user 61.1 ms, sys: 72.2 ms, total: 133 ms\n",
      "Wall time: 50.9 s\n"
     ]
    },
    {
     "data": {
      "text/html": [
       "<div>\n",
       "<style scoped>\n",
       "    .dataframe tbody tr th:only-of-type {\n",
       "        vertical-align: middle;\n",
       "    }\n",
       "\n",
       "    .dataframe tbody tr th {\n",
       "        vertical-align: top;\n",
       "    }\n",
       "\n",
       "    .dataframe thead th {\n",
       "        text-align: right;\n",
       "    }\n",
       "</style>\n",
       "<table border=\"1\" class=\"dataframe\">\n",
       "  <thead>\n",
       "    <tr style=\"text-align: right;\">\n",
       "      <th></th>\n",
       "      <th>user_id</th>\n",
       "      <th>signup_time</th>\n",
       "      <th>purchase_time</th>\n",
       "      <th>purchase_value</th>\n",
       "      <th>device_id</th>\n",
       "      <th>source</th>\n",
       "      <th>browser</th>\n",
       "      <th>sex</th>\n",
       "      <th>age</th>\n",
       "      <th>ip_address</th>\n",
       "      <th>class</th>\n",
       "      <th>country</th>\n",
       "    </tr>\n",
       "  </thead>\n",
       "  <tbody>\n",
       "    <tr>\n",
       "      <th>0</th>\n",
       "      <td>285108</td>\n",
       "      <td>2015-07-15 04:36:00</td>\n",
       "      <td>2015-09-10 14:17:00</td>\n",
       "      <td>31</td>\n",
       "      <td>HZAKVUFTDOSFD</td>\n",
       "      <td>Direct</td>\n",
       "      <td>Chrome</td>\n",
       "      <td>M</td>\n",
       "      <td>49</td>\n",
       "      <td>2.818400e+09</td>\n",
       "      <td>0</td>\n",
       "      <td>United States</td>\n",
       "    </tr>\n",
       "    <tr>\n",
       "      <th>1</th>\n",
       "      <td>131009</td>\n",
       "      <td>2015-01-24 12:29:00</td>\n",
       "      <td>2015-04-13 04:53:00</td>\n",
       "      <td>31</td>\n",
       "      <td>XGQAJSOUJIZCC</td>\n",
       "      <td>SEO</td>\n",
       "      <td>IE</td>\n",
       "      <td>F</td>\n",
       "      <td>21</td>\n",
       "      <td>3.251268e+09</td>\n",
       "      <td>0</td>\n",
       "      <td>United Kingdom</td>\n",
       "    </tr>\n",
       "    <tr>\n",
       "      <th>2</th>\n",
       "      <td>328855</td>\n",
       "      <td>2015-03-11 00:54:00</td>\n",
       "      <td>2015-04-05 12:23:00</td>\n",
       "      <td>16</td>\n",
       "      <td>VCCTAYDCWKZIY</td>\n",
       "      <td>Direct</td>\n",
       "      <td>IE</td>\n",
       "      <td>M</td>\n",
       "      <td>26</td>\n",
       "      <td>2.727760e+09</td>\n",
       "      <td>0</td>\n",
       "      <td>United States</td>\n",
       "    </tr>\n",
       "    <tr>\n",
       "      <th>3</th>\n",
       "      <td>229053</td>\n",
       "      <td>2015-01-07 13:19:00</td>\n",
       "      <td>2015-01-09 10:12:00</td>\n",
       "      <td>29</td>\n",
       "      <td>MFFIHYNXCJLEY</td>\n",
       "      <td>SEO</td>\n",
       "      <td>Chrome</td>\n",
       "      <td>M</td>\n",
       "      <td>34</td>\n",
       "      <td>2.083420e+09</td>\n",
       "      <td>0</td>\n",
       "      <td>Korea Republic of</td>\n",
       "    </tr>\n",
       "    <tr>\n",
       "      <th>4</th>\n",
       "      <td>108439</td>\n",
       "      <td>2015-02-08 21:11:00</td>\n",
       "      <td>2015-04-09 14:26:00</td>\n",
       "      <td>26</td>\n",
       "      <td>WMSXWGVPNIFBM</td>\n",
       "      <td>Ads</td>\n",
       "      <td>FireFox</td>\n",
       "      <td>M</td>\n",
       "      <td>33</td>\n",
       "      <td>3.207913e+09</td>\n",
       "      <td>0</td>\n",
       "      <td>Brazil</td>\n",
       "    </tr>\n",
       "  </tbody>\n",
       "</table>\n",
       "</div>"
      ],
      "text/plain": [
       "   user_id         signup_time       purchase_time  purchase_value  \\\n",
       "0   285108 2015-07-15 04:36:00 2015-09-10 14:17:00              31   \n",
       "1   131009 2015-01-24 12:29:00 2015-04-13 04:53:00              31   \n",
       "2   328855 2015-03-11 00:54:00 2015-04-05 12:23:00              16   \n",
       "3   229053 2015-01-07 13:19:00 2015-01-09 10:12:00              29   \n",
       "4   108439 2015-02-08 21:11:00 2015-04-09 14:26:00              26   \n",
       "\n",
       "       device_id  source  browser sex  age    ip_address  class  \\\n",
       "0  HZAKVUFTDOSFD  Direct   Chrome   M   49  2.818400e+09      0   \n",
       "1  XGQAJSOUJIZCC     SEO       IE   F   21  3.251268e+09      0   \n",
       "2  VCCTAYDCWKZIY  Direct       IE   M   26  2.727760e+09      0   \n",
       "3  MFFIHYNXCJLEY     SEO   Chrome   M   34  2.083420e+09      0   \n",
       "4  WMSXWGVPNIFBM     Ads  FireFox   M   33  3.207913e+09      0   \n",
       "\n",
       "             country  \n",
       "0      United States  \n",
       "1     United Kingdom  \n",
       "2      United States  \n",
       "3  Korea Republic of  \n",
       "4             Brazil  "
      ]
     },
     "execution_count": 10,
     "metadata": {},
     "output_type": "execute_result"
    }
   ],
   "source": [
    "%%time\n",
    "df_transactions[\"country\"] = df_transactions[\"ip_address\"].parallel_apply(lambda x:custom_join(x))\n",
    "df_transactions.head(5)"
   ]
  },
  {
   "cell_type": "code",
   "execution_count": null,
   "metadata": {},
   "outputs": [],
   "source": []
  },
  {
   "cell_type": "markdown",
   "metadata": {},
   "source": [
    "## 2. Exploratory Data Analysis"
   ]
  },
  {
   "cell_type": "markdown",
   "metadata": {},
   "source": [
    "####  2.1 Target label - Class\n",
    "- We have majority of class 0 - No Fraud records\n",
    "- Minority class 1 - Fraud records are only 9.4%\n",
    "- Rare event classification"
   ]
  },
  {
   "cell_type": "code",
   "execution_count": 11,
   "metadata": {},
   "outputs": [
    {
     "name": "stdout",
     "output_type": "stream",
     "text": [
      "# of records for Class 0:108735\n",
      "# of records for Class 1:11265\n",
      "Percentage of records with label 1 - Fraud: 9.4%\n"
     ]
    },
    {
     "data": {
      "image/png": "[encoded data removed]",
      "text/plain": [
       "<Figure size 360x288 with 1 Axes>"
      ]
     },
     "metadata": {},
     "output_type": "display_data"
    }
   ],
   "source": [
    "for ind,val in enumerate(df_transactions[\"class\"].value_counts()):\n",
    "    print(\"# of records for Class \"+str(ind)+\":\"+str(val))\n",
    "    \n",
    "print(\"Percentage of records with label 1 - Fraud: \"+\n",
    "      str(np.round((df_transactions[\"class\"].value_counts()[1]/df_transactions[\"class\"].value_counts().values.sum())*100,1))+\"%\")\n",
    "\n",
    "sns.set(rc = {'figure.figsize':(5,4)})\n",
    "ax = sns.countplot(x ='class', data = df_transactions)\n"
   ]
  },
  {
   "cell_type": "markdown",
   "metadata": {},
   "source": [
    "#### 2.2 Categorical Features:\n",
    "<b>1. Source</b>\n",
    "- Three source types SEO, Ads, Direct\n",
    "- \"Direct\" source has slight high percentage of fraud records"
   ]
  },
  {
   "cell_type": "code",
   "execution_count": 12,
   "metadata": {},
   "outputs": [
    {
     "data": {
      "text/html": [
       "<div>\n",
       "<style scoped>\n",
       "    .dataframe tbody tr th:only-of-type {\n",
       "        vertical-align: middle;\n",
       "    }\n",
       "\n",
       "    .dataframe tbody tr th {\n",
       "        vertical-align: top;\n",
       "    }\n",
       "\n",
       "    .dataframe thead th {\n",
       "        text-align: right;\n",
       "    }\n",
       "</style>\n",
       "<table border=\"1\" class=\"dataframe\">\n",
       "  <thead>\n",
       "    <tr style=\"text-align: right;\">\n",
       "      <th></th>\n",
       "      <th>count</th>\n",
       "      <th>fraud_ratio</th>\n",
       "    </tr>\n",
       "    <tr>\n",
       "      <th>source</th>\n",
       "      <th></th>\n",
       "      <th></th>\n",
       "    </tr>\n",
       "  </thead>\n",
       "  <tbody>\n",
       "    <tr>\n",
       "      <th>Ads</th>\n",
       "      <td>47461</td>\n",
       "      <td>0.091696</td>\n",
       "    </tr>\n",
       "    <tr>\n",
       "      <th>Direct</th>\n",
       "      <td>24242</td>\n",
       "      <td>0.105643</td>\n",
       "    </tr>\n",
       "    <tr>\n",
       "      <th>SEO</th>\n",
       "      <td>48297</td>\n",
       "      <td>0.090109</td>\n",
       "    </tr>\n",
       "  </tbody>\n",
       "</table>\n",
       "</div>"
      ],
      "text/plain": [
       "        count  fraud_ratio\n",
       "source                    \n",
       "Ads     47461     0.091696\n",
       "Direct  24242     0.105643\n",
       "SEO     48297     0.090109"
      ]
     },
     "execution_count": 12,
     "metadata": {},
     "output_type": "execute_result"
    }
   ],
   "source": [
    "df_transactions.groupby('source').agg(count=('class', 'size'), fraud_ratio=('class', 'mean'))"
   ]
  },
  {
   "cell_type": "markdown",
   "metadata": {},
   "source": [
    "<b> 2. Browser </b>\n",
    "- Five main browsers\n",
    "- Chrome and IE are mainly used by users\n",
    "- No clear indication on fraud if we consider \"browser\" column alone"
   ]
  },
  {
   "cell_type": "code",
   "execution_count": 13,
   "metadata": {},
   "outputs": [
    {
     "data": {
      "text/html": [
       "<div>\n",
       "<style scoped>\n",
       "    .dataframe tbody tr th:only-of-type {\n",
       "        vertical-align: middle;\n",
       "    }\n",
       "\n",
       "    .dataframe tbody tr th {\n",
       "        vertical-align: top;\n",
       "    }\n",
       "\n",
       "    .dataframe thead th {\n",
       "        text-align: right;\n",
       "    }\n",
       "</style>\n",
       "<table border=\"1\" class=\"dataframe\">\n",
       "  <thead>\n",
       "    <tr style=\"text-align: right;\">\n",
       "      <th></th>\n",
       "      <th>count</th>\n",
       "      <th>fraud_ratio</th>\n",
       "    </tr>\n",
       "    <tr>\n",
       "      <th>browser</th>\n",
       "      <th></th>\n",
       "      <th></th>\n",
       "    </tr>\n",
       "  </thead>\n",
       "  <tbody>\n",
       "    <tr>\n",
       "      <th>Chrome</th>\n",
       "      <td>48652</td>\n",
       "      <td>0.099441</td>\n",
       "    </tr>\n",
       "    <tr>\n",
       "      <th>FireFox</th>\n",
       "      <td>19615</td>\n",
       "      <td>0.094112</td>\n",
       "    </tr>\n",
       "    <tr>\n",
       "      <th>IE</th>\n",
       "      <td>29138</td>\n",
       "      <td>0.086107</td>\n",
       "    </tr>\n",
       "    <tr>\n",
       "      <th>Opera</th>\n",
       "      <td>2975</td>\n",
       "      <td>0.091429</td>\n",
       "    </tr>\n",
       "    <tr>\n",
       "      <th>Safari</th>\n",
       "      <td>19620</td>\n",
       "      <td>0.091743</td>\n",
       "    </tr>\n",
       "  </tbody>\n",
       "</table>\n",
       "</div>"
      ],
      "text/plain": [
       "         count  fraud_ratio\n",
       "browser                    \n",
       "Chrome   48652     0.099441\n",
       "FireFox  19615     0.094112\n",
       "IE       29138     0.086107\n",
       "Opera     2975     0.091429\n",
       "Safari   19620     0.091743"
      ]
     },
     "execution_count": 13,
     "metadata": {},
     "output_type": "execute_result"
    }
   ],
   "source": [
    "df_transactions.groupby('browser').agg(count=('class', 'size'), fraud_ratio=('class', 'mean'))"
   ]
  },
  {
   "cell_type": "markdown",
   "metadata": {},
   "source": [
    "<b>3. Sex </b>\n",
    "- Male gender has slight high fraud ratio compared to female gender"
   ]
  },
  {
   "cell_type": "code",
   "execution_count": 14,
   "metadata": {},
   "outputs": [
    {
     "data": {
      "text/html": [
       "<div>\n",
       "<style scoped>\n",
       "    .dataframe tbody tr th:only-of-type {\n",
       "        vertical-align: middle;\n",
       "    }\n",
       "\n",
       "    .dataframe tbody tr th {\n",
       "        vertical-align: top;\n",
       "    }\n",
       "\n",
       "    .dataframe thead th {\n",
       "        text-align: right;\n",
       "    }\n",
       "</style>\n",
       "<table border=\"1\" class=\"dataframe\">\n",
       "  <thead>\n",
       "    <tr style=\"text-align: right;\">\n",
       "      <th></th>\n",
       "      <th>count</th>\n",
       "      <th>fraud_ratio</th>\n",
       "    </tr>\n",
       "    <tr>\n",
       "      <th>sex</th>\n",
       "      <th></th>\n",
       "      <th></th>\n",
       "    </tr>\n",
       "  </thead>\n",
       "  <tbody>\n",
       "    <tr>\n",
       "      <th>F</th>\n",
       "      <td>49874</td>\n",
       "      <td>0.091671</td>\n",
       "    </tr>\n",
       "    <tr>\n",
       "      <th>M</th>\n",
       "      <td>70126</td>\n",
       "      <td>0.095442</td>\n",
       "    </tr>\n",
       "  </tbody>\n",
       "</table>\n",
       "</div>"
      ],
      "text/plain": [
       "     count  fraud_ratio\n",
       "sex                    \n",
       "F    49874     0.091671\n",
       "M    70126     0.095442"
      ]
     },
     "execution_count": 14,
     "metadata": {},
     "output_type": "execute_result"
    }
   ],
   "source": [
    "df_transactions.groupby('sex').agg(count=('class', 'size'), fraud_ratio=('class', 'mean'))"
   ]
  },
  {
   "cell_type": "markdown",
   "metadata": {},
   "source": [
    "<b>4. country </b>\n",
    "- Top 10 countries with highest fraud ratio"
   ]
  },
  {
   "cell_type": "code",
   "execution_count": 15,
   "metadata": {},
   "outputs": [
    {
     "data": {
      "text/html": [
       "<div>\n",
       "<style scoped>\n",
       "    .dataframe tbody tr th:only-of-type {\n",
       "        vertical-align: middle;\n",
       "    }\n",
       "\n",
       "    .dataframe tbody tr th {\n",
       "        vertical-align: top;\n",
       "    }\n",
       "\n",
       "    .dataframe thead th {\n",
       "        text-align: right;\n",
       "    }\n",
       "</style>\n",
       "<table border=\"1\" class=\"dataframe\">\n",
       "  <thead>\n",
       "    <tr style=\"text-align: right;\">\n",
       "      <th></th>\n",
       "      <th>count</th>\n",
       "      <th>fraud_ratio</th>\n",
       "    </tr>\n",
       "    <tr>\n",
       "      <th>country</th>\n",
       "      <th></th>\n",
       "      <th></th>\n",
       "    </tr>\n",
       "  </thead>\n",
       "  <tbody>\n",
       "    <tr>\n",
       "      <th>Namibia</th>\n",
       "      <td>20</td>\n",
       "      <td>0.400000</td>\n",
       "    </tr>\n",
       "    <tr>\n",
       "      <th>Luxembourg</th>\n",
       "      <td>56</td>\n",
       "      <td>0.392857</td>\n",
       "    </tr>\n",
       "    <tr>\n",
       "      <th>Sri Lanka</th>\n",
       "      <td>22</td>\n",
       "      <td>0.363636</td>\n",
       "    </tr>\n",
       "    <tr>\n",
       "      <th>Peru</th>\n",
       "      <td>94</td>\n",
       "      <td>0.287234</td>\n",
       "    </tr>\n",
       "    <tr>\n",
       "      <th>Ecuador</th>\n",
       "      <td>87</td>\n",
       "      <td>0.264368</td>\n",
       "    </tr>\n",
       "    <tr>\n",
       "      <th>Tunisia</th>\n",
       "      <td>89</td>\n",
       "      <td>0.258427</td>\n",
       "    </tr>\n",
       "    <tr>\n",
       "      <th>Bolivia</th>\n",
       "      <td>46</td>\n",
       "      <td>0.239130</td>\n",
       "    </tr>\n",
       "    <tr>\n",
       "      <th>Ireland</th>\n",
       "      <td>197</td>\n",
       "      <td>0.238579</td>\n",
       "    </tr>\n",
       "    <tr>\n",
       "      <th>Kuwait</th>\n",
       "      <td>72</td>\n",
       "      <td>0.236111</td>\n",
       "    </tr>\n",
       "    <tr>\n",
       "      <th>New Zealand</th>\n",
       "      <td>222</td>\n",
       "      <td>0.211712</td>\n",
       "    </tr>\n",
       "    <tr>\n",
       "      <th>Lithuania</th>\n",
       "      <td>76</td>\n",
       "      <td>0.210526</td>\n",
       "    </tr>\n",
       "    <tr>\n",
       "      <th>Saudi Arabia</th>\n",
       "      <td>217</td>\n",
       "      <td>0.207373</td>\n",
       "    </tr>\n",
       "    <tr>\n",
       "      <th>Armenia</th>\n",
       "      <td>12</td>\n",
       "      <td>0.166667</td>\n",
       "    </tr>\n",
       "    <tr>\n",
       "      <th>Denmark</th>\n",
       "      <td>381</td>\n",
       "      <td>0.162730</td>\n",
       "    </tr>\n",
       "    <tr>\n",
       "      <th>Venezuela</th>\n",
       "      <td>200</td>\n",
       "      <td>0.150000</td>\n",
       "    </tr>\n",
       "  </tbody>\n",
       "</table>\n",
       "</div>"
      ],
      "text/plain": [
       "              count  fraud_ratio\n",
       "country                         \n",
       "Namibia          20     0.400000\n",
       "Luxembourg       56     0.392857\n",
       "Sri Lanka        22     0.363636\n",
       "Peru             94     0.287234\n",
       "Ecuador          87     0.264368\n",
       "Tunisia          89     0.258427\n",
       "Bolivia          46     0.239130\n",
       "Ireland         197     0.238579\n",
       "Kuwait           72     0.236111\n",
       "New Zealand     222     0.211712\n",
       "Lithuania        76     0.210526\n",
       "Saudi Arabia    217     0.207373\n",
       "Armenia          12     0.166667\n",
       "Denmark         381     0.162730\n",
       "Venezuela       200     0.150000"
      ]
     },
     "execution_count": 15,
     "metadata": {},
     "output_type": "execute_result"
    }
   ],
   "source": [
    "df_country = df_transactions.groupby('country').agg(count=('class', 'size'), fraud_ratio=('class', 'mean'))\n",
    "df_country.query('count > 10').nlargest(15, 'fraud_ratio')"
   ]
  },
  {
   "cell_type": "markdown",
   "metadata": {},
   "source": [
    "- Top 10 countries with most transactions"
   ]
  },
  {
   "cell_type": "code",
   "execution_count": 16,
   "metadata": {},
   "outputs": [
    {
     "data": {
      "text/html": [
       "<div>\n",
       "<style scoped>\n",
       "    .dataframe tbody tr th:only-of-type {\n",
       "        vertical-align: middle;\n",
       "    }\n",
       "\n",
       "    .dataframe tbody tr th {\n",
       "        vertical-align: top;\n",
       "    }\n",
       "\n",
       "    .dataframe thead th {\n",
       "        text-align: right;\n",
       "    }\n",
       "</style>\n",
       "<table border=\"1\" class=\"dataframe\">\n",
       "  <thead>\n",
       "    <tr style=\"text-align: right;\">\n",
       "      <th></th>\n",
       "      <th>count</th>\n",
       "    </tr>\n",
       "    <tr>\n",
       "      <th>country</th>\n",
       "      <th></th>\n",
       "    </tr>\n",
       "  </thead>\n",
       "  <tbody>\n",
       "    <tr>\n",
       "      <th>United States</th>\n",
       "      <td>46184</td>\n",
       "    </tr>\n",
       "    <tr>\n",
       "      <th>UNK</th>\n",
       "      <td>17418</td>\n",
       "    </tr>\n",
       "    <tr>\n",
       "      <th>China</th>\n",
       "      <td>9532</td>\n",
       "    </tr>\n",
       "    <tr>\n",
       "      <th>Japan</th>\n",
       "      <td>5735</td>\n",
       "    </tr>\n",
       "    <tr>\n",
       "      <th>United Kingdom</th>\n",
       "      <td>3580</td>\n",
       "    </tr>\n",
       "    <tr>\n",
       "      <th>Korea Republic of</th>\n",
       "      <td>3341</td>\n",
       "    </tr>\n",
       "    <tr>\n",
       "      <th>Germany</th>\n",
       "      <td>2890</td>\n",
       "    </tr>\n",
       "    <tr>\n",
       "      <th>France</th>\n",
       "      <td>2489</td>\n",
       "    </tr>\n",
       "    <tr>\n",
       "      <th>Brazil</th>\n",
       "      <td>2353</td>\n",
       "    </tr>\n",
       "    <tr>\n",
       "      <th>Canada</th>\n",
       "      <td>2344</td>\n",
       "    </tr>\n",
       "  </tbody>\n",
       "</table>\n",
       "</div>"
      ],
      "text/plain": [
       "                   count\n",
       "country                 \n",
       "United States      46184\n",
       "UNK                17418\n",
       "China               9532\n",
       "Japan               5735\n",
       "United Kingdom      3580\n",
       "Korea Republic of   3341\n",
       "Germany             2890\n",
       "France              2489\n",
       "Brazil              2353\n",
       "Canada              2344"
      ]
     },
     "execution_count": 16,
     "metadata": {},
     "output_type": "execute_result"
    }
   ],
   "source": [
    "df_country = df_transactions.groupby('country').agg(count=('class', 'size')).sort_values(\"count\", ascending =False)[:10]\n",
    "df_country"
   ]
  },
  {
   "cell_type": "markdown",
   "metadata": {},
   "source": [
    "#### 2.2.1Categorical features class distributions"
   ]
  },
  {
   "cell_type": "code",
   "execution_count": 17,
   "metadata": {},
   "outputs": [
    {
     "data": {
      "image/png": "[encoded data removed]",
      "text/plain": [
       "<Figure size 1296x360 with 3 Axes>"
      ]
     },
     "metadata": {},
     "output_type": "display_data"
    }
   ],
   "source": [
    "fig = plt.figure(figsize=(18, 5))\n",
    "fig.subplots_adjust(hspace=0.3, wspace=0.3)\n",
    "cat_features = [\"source\",\"browser\",\"sex\"]\n",
    "for i in range(len(cat_features)):\n",
    "    ax = fig.add_subplot(1, len(cat_features),i+1)\n",
    "    labels = df_transactions[cat_features[i]].value_counts().index\n",
    "    class_0 = df_transactions[df_transactions[\"class\"]==0][cat_features[i]].value_counts().values\n",
    "    class_1 = df_transactions[df_transactions[\"class\"]==1][cat_features[i]].value_counts().values   \n",
    "    ax.bar(labels, class_0, width = 0.55, label='No Fraud')\n",
    "    ax.bar(labels, class_1, width = 0.55, bottom=class_0,\n",
    "           label='Fraud')\n",
    "    ax.set_ylabel('Count')\n",
    "    ax.set_title(cat_features[i])\n",
    "    ax.legend()\n",
    "\n"
   ]
  },
  {
   "cell_type": "markdown",
   "metadata": {},
   "source": [
    "#### 2.3 Numerical features\n",
    "- Age:\n",
    "    - Age is more normally distributed\n",
    "    - Majority of the users are in between late 20's to late 30's \n",
    "- Purchase_value:\n",
    "    - The value of the majority of the items that were purchased is less than 50 \n",
    "    - On average the cost of products sold on the ecommerce site is around 37 dollars\n",
    "    - The cost incurred due to a flase positive is 8 dollars.\n",
    "    - The model we will be developing should be slightly high recall model as the average cost of product is more than the cost incurred due to a flase positive"
   ]
  },
  {
   "cell_type": "code",
   "execution_count": 18,
   "metadata": {},
   "outputs": [
    {
     "data": {
      "image/png": "[encoded data removed]",
      "text/plain": [
       "<Figure size 792x576 with 4 Axes>"
      ]
     },
     "metadata": {},
     "output_type": "display_data"
    }
   ],
   "source": [
    "fig = plt.figure(figsize=(11, 8))\n",
    "fig.subplots_adjust(hspace=0.3, wspace=0.3)\n",
    "numerical_features = [\"age\",\"purchase_value\"]\n",
    "for i in range(len(numerical_features)):\n",
    "    ax = fig.add_subplot(2, len(numerical_features),i+1)\n",
    "    ax.hist(x=df_transactions[numerical_features[i]], bins=30)\n",
    "    ax.set_ylabel('Frequency')\n",
    "    ax.set_xlabel(numerical_features[i])\n",
    "    ax.set_title(numerical_features[i]+' histogram')\n",
    "    ax = fig.add_subplot(2, len(numerical_features),i+1+len(numerical_features))\n",
    "    ax.boxplot(x=df_transactions[numerical_features[i]],vert=False)\n",
    "    ax.set_xlabel(numerical_features[i])\n",
    "    ax.set_ylabel('')\n",
    "    ax.set_title(numerical_features[i]+' boxplot')"
   ]
  },
  {
   "cell_type": "markdown",
   "metadata": {},
   "source": [
    "#### Additional Feature 1.\n",
    "Time difference between the signup and purchase time"
   ]
  },
  {
   "cell_type": "code",
   "execution_count": 19,
   "metadata": {},
   "outputs": [
    {
     "data": {
      "text/html": [
       "<div>\n",
       "<style scoped>\n",
       "    .dataframe tbody tr th:only-of-type {\n",
       "        vertical-align: middle;\n",
       "    }\n",
       "\n",
       "    .dataframe tbody tr th {\n",
       "        vertical-align: top;\n",
       "    }\n",
       "\n",
       "    .dataframe thead th {\n",
       "        text-align: right;\n",
       "    }\n",
       "</style>\n",
       "<table border=\"1\" class=\"dataframe\">\n",
       "  <thead>\n",
       "    <tr style=\"text-align: right;\">\n",
       "      <th></th>\n",
       "      <th>user_id</th>\n",
       "      <th>signup_time</th>\n",
       "      <th>purchase_time</th>\n",
       "      <th>purchase_value</th>\n",
       "      <th>device_id</th>\n",
       "      <th>source</th>\n",
       "      <th>browser</th>\n",
       "      <th>sex</th>\n",
       "      <th>age</th>\n",
       "      <th>ip_address</th>\n",
       "      <th>class</th>\n",
       "      <th>country</th>\n",
       "      <th>time_difference</th>\n",
       "    </tr>\n",
       "  </thead>\n",
       "  <tbody>\n",
       "    <tr>\n",
       "      <th>0</th>\n",
       "      <td>285108</td>\n",
       "      <td>2015-07-15 04:36:00</td>\n",
       "      <td>2015-09-10 14:17:00</td>\n",
       "      <td>31</td>\n",
       "      <td>HZAKVUFTDOSFD</td>\n",
       "      <td>Direct</td>\n",
       "      <td>Chrome</td>\n",
       "      <td>M</td>\n",
       "      <td>49</td>\n",
       "      <td>2.818400e+09</td>\n",
       "      <td>0</td>\n",
       "      <td>United States</td>\n",
       "      <td>51540</td>\n",
       "    </tr>\n",
       "    <tr>\n",
       "      <th>1</th>\n",
       "      <td>131009</td>\n",
       "      <td>2015-01-24 12:29:00</td>\n",
       "      <td>2015-04-13 04:53:00</td>\n",
       "      <td>31</td>\n",
       "      <td>XGQAJSOUJIZCC</td>\n",
       "      <td>SEO</td>\n",
       "      <td>IE</td>\n",
       "      <td>F</td>\n",
       "      <td>21</td>\n",
       "      <td>3.251268e+09</td>\n",
       "      <td>0</td>\n",
       "      <td>United Kingdom</td>\n",
       "      <td>27360</td>\n",
       "    </tr>\n",
       "    <tr>\n",
       "      <th>2</th>\n",
       "      <td>328855</td>\n",
       "      <td>2015-03-11 00:54:00</td>\n",
       "      <td>2015-04-05 12:23:00</td>\n",
       "      <td>16</td>\n",
       "      <td>VCCTAYDCWKZIY</td>\n",
       "      <td>Direct</td>\n",
       "      <td>IE</td>\n",
       "      <td>M</td>\n",
       "      <td>26</td>\n",
       "      <td>2.727760e+09</td>\n",
       "      <td>0</td>\n",
       "      <td>United States</td>\n",
       "      <td>45060</td>\n",
       "    </tr>\n",
       "    <tr>\n",
       "      <th>3</th>\n",
       "      <td>229053</td>\n",
       "      <td>2015-01-07 13:19:00</td>\n",
       "      <td>2015-01-09 10:12:00</td>\n",
       "      <td>29</td>\n",
       "      <td>MFFIHYNXCJLEY</td>\n",
       "      <td>SEO</td>\n",
       "      <td>Chrome</td>\n",
       "      <td>M</td>\n",
       "      <td>34</td>\n",
       "      <td>2.083420e+09</td>\n",
       "      <td>0</td>\n",
       "      <td>Korea Republic of</td>\n",
       "      <td>11220</td>\n",
       "    </tr>\n",
       "    <tr>\n",
       "      <th>4</th>\n",
       "      <td>108439</td>\n",
       "      <td>2015-02-08 21:11:00</td>\n",
       "      <td>2015-04-09 14:26:00</td>\n",
       "      <td>26</td>\n",
       "      <td>WMSXWGVPNIFBM</td>\n",
       "      <td>Ads</td>\n",
       "      <td>FireFox</td>\n",
       "      <td>M</td>\n",
       "      <td>33</td>\n",
       "      <td>3.207913e+09</td>\n",
       "      <td>0</td>\n",
       "      <td>Brazil</td>\n",
       "      <td>24300</td>\n",
       "    </tr>\n",
       "  </tbody>\n",
       "</table>\n",
       "</div>"
      ],
      "text/plain": [
       "   user_id         signup_time       purchase_time  purchase_value  \\\n",
       "0   285108 2015-07-15 04:36:00 2015-09-10 14:17:00              31   \n",
       "1   131009 2015-01-24 12:29:00 2015-04-13 04:53:00              31   \n",
       "2   328855 2015-03-11 00:54:00 2015-04-05 12:23:00              16   \n",
       "3   229053 2015-01-07 13:19:00 2015-01-09 10:12:00              29   \n",
       "4   108439 2015-02-08 21:11:00 2015-04-09 14:26:00              26   \n",
       "\n",
       "       device_id  source  browser sex  age    ip_address  class  \\\n",
       "0  HZAKVUFTDOSFD  Direct   Chrome   M   49  2.818400e+09      0   \n",
       "1  XGQAJSOUJIZCC     SEO       IE   F   21  3.251268e+09      0   \n",
       "2  VCCTAYDCWKZIY  Direct       IE   M   26  2.727760e+09      0   \n",
       "3  MFFIHYNXCJLEY     SEO   Chrome   M   34  2.083420e+09      0   \n",
       "4  WMSXWGVPNIFBM     Ads  FireFox   M   33  3.207913e+09      0   \n",
       "\n",
       "             country  time_difference  \n",
       "0      United States            51540  \n",
       "1     United Kingdom            27360  \n",
       "2      United States            45060  \n",
       "3  Korea Republic of            11220  \n",
       "4             Brazil            24300  "
      ]
     },
     "execution_count": 19,
     "metadata": {},
     "output_type": "execute_result"
    }
   ],
   "source": [
    "df_transactions[\"time_difference\"] = (df_transactions[\"signup_time\"]-df_transactions[\"purchase_time\"]).dt.seconds\n",
    "df_transactions.head(5)"
   ]
  },
  {
   "cell_type": "markdown",
   "metadata": {},
   "source": [
    "- For fraudualent transactions, it is clear that the transactions are made very quickly (<=1 sec in many cases)\n",
    "- with this new feature we see a clear pattern to identify fradualent ransactions"
   ]
  },
  {
   "cell_type": "code",
   "execution_count": 20,
   "metadata": {},
   "outputs": [
    {
     "data": {
      "image/png": "[encoded data removed]",
      "text/plain": [
       "<Figure size 1080x360 with 2 Axes>"
      ]
     },
     "metadata": {},
     "output_type": "display_data"
    }
   ],
   "source": [
    "## justification\n",
    "fig, ax = plt.subplots(1, 2, figsize=(15, 5))\n",
    "\n",
    "df_transactions.groupby(\"class\").time_difference.plot(kind = 'kde', legend = True, ax=ax[0]);\n",
    "ax[0].legend(['Not Fraud', 'Fraud'])\n",
    "\n",
    "ax[1].boxplot([df_transactions[df_transactions[\"class\"]==0][\"time_difference\"],\n",
    "            df_transactions[df_transactions[\"class\"]==1][\"time_difference\"]],\n",
    "           vert=False);\n",
    "ax[1].set_yticklabels(['Class 1', 'Class 0']);\n",
    "\n",
    "\n"
   ]
  },
  {
   "cell_type": "markdown",
   "metadata": {},
   "source": [
    "#### Additional Feature 2.\n",
    "- How many times same device is being used by different users\n",
    "- High number of users using the same device is directly proportional to fraud ratio\n",
    "- Good indicator to consider in model development"
   ]
  },
  {
   "cell_type": "code",
   "execution_count": 21,
   "metadata": {},
   "outputs": [
    {
     "data": {
      "text/html": [
       "<div>\n",
       "<style scoped>\n",
       "    .dataframe tbody tr th:only-of-type {\n",
       "        vertical-align: middle;\n",
       "    }\n",
       "\n",
       "    .dataframe tbody tr th {\n",
       "        vertical-align: top;\n",
       "    }\n",
       "\n",
       "    .dataframe thead th {\n",
       "        text-align: right;\n",
       "    }\n",
       "</style>\n",
       "<table border=\"1\" class=\"dataframe\">\n",
       "  <thead>\n",
       "    <tr style=\"text-align: right;\">\n",
       "      <th></th>\n",
       "      <th>user_id</th>\n",
       "      <th>signup_time</th>\n",
       "      <th>purchase_time</th>\n",
       "      <th>purchase_value</th>\n",
       "      <th>device_id</th>\n",
       "      <th>source</th>\n",
       "      <th>browser</th>\n",
       "      <th>sex</th>\n",
       "      <th>age</th>\n",
       "      <th>ip_address</th>\n",
       "      <th>class</th>\n",
       "      <th>country</th>\n",
       "      <th>time_difference</th>\n",
       "      <th>devices_used_count</th>\n",
       "    </tr>\n",
       "  </thead>\n",
       "  <tbody>\n",
       "    <tr>\n",
       "      <th>0</th>\n",
       "      <td>285108</td>\n",
       "      <td>2015-07-15 04:36:00</td>\n",
       "      <td>2015-09-10 14:17:00</td>\n",
       "      <td>31</td>\n",
       "      <td>HZAKVUFTDOSFD</td>\n",
       "      <td>Direct</td>\n",
       "      <td>Chrome</td>\n",
       "      <td>M</td>\n",
       "      <td>49</td>\n",
       "      <td>2.818400e+09</td>\n",
       "      <td>0</td>\n",
       "      <td>United States</td>\n",
       "      <td>51540</td>\n",
       "      <td>2</td>\n",
       "    </tr>\n",
       "    <tr>\n",
       "      <th>1</th>\n",
       "      <td>131009</td>\n",
       "      <td>2015-01-24 12:29:00</td>\n",
       "      <td>2015-04-13 04:53:00</td>\n",
       "      <td>31</td>\n",
       "      <td>XGQAJSOUJIZCC</td>\n",
       "      <td>SEO</td>\n",
       "      <td>IE</td>\n",
       "      <td>F</td>\n",
       "      <td>21</td>\n",
       "      <td>3.251268e+09</td>\n",
       "      <td>0</td>\n",
       "      <td>United Kingdom</td>\n",
       "      <td>27360</td>\n",
       "      <td>1</td>\n",
       "    </tr>\n",
       "    <tr>\n",
       "      <th>2</th>\n",
       "      <td>328855</td>\n",
       "      <td>2015-03-11 00:54:00</td>\n",
       "      <td>2015-04-05 12:23:00</td>\n",
       "      <td>16</td>\n",
       "      <td>VCCTAYDCWKZIY</td>\n",
       "      <td>Direct</td>\n",
       "      <td>IE</td>\n",
       "      <td>M</td>\n",
       "      <td>26</td>\n",
       "      <td>2.727760e+09</td>\n",
       "      <td>0</td>\n",
       "      <td>United States</td>\n",
       "      <td>45060</td>\n",
       "      <td>1</td>\n",
       "    </tr>\n",
       "    <tr>\n",
       "      <th>3</th>\n",
       "      <td>229053</td>\n",
       "      <td>2015-01-07 13:19:00</td>\n",
       "      <td>2015-01-09 10:12:00</td>\n",
       "      <td>29</td>\n",
       "      <td>MFFIHYNXCJLEY</td>\n",
       "      <td>SEO</td>\n",
       "      <td>Chrome</td>\n",
       "      <td>M</td>\n",
       "      <td>34</td>\n",
       "      <td>2.083420e+09</td>\n",
       "      <td>0</td>\n",
       "      <td>Korea Republic of</td>\n",
       "      <td>11220</td>\n",
       "      <td>1</td>\n",
       "    </tr>\n",
       "    <tr>\n",
       "      <th>4</th>\n",
       "      <td>108439</td>\n",
       "      <td>2015-02-08 21:11:00</td>\n",
       "      <td>2015-04-09 14:26:00</td>\n",
       "      <td>26</td>\n",
       "      <td>WMSXWGVPNIFBM</td>\n",
       "      <td>Ads</td>\n",
       "      <td>FireFox</td>\n",
       "      <td>M</td>\n",
       "      <td>33</td>\n",
       "      <td>3.207913e+09</td>\n",
       "      <td>0</td>\n",
       "      <td>Brazil</td>\n",
       "      <td>24300</td>\n",
       "      <td>1</td>\n",
       "    </tr>\n",
       "  </tbody>\n",
       "</table>\n",
       "</div>"
      ],
      "text/plain": [
       "   user_id         signup_time       purchase_time  purchase_value  \\\n",
       "0   285108 2015-07-15 04:36:00 2015-09-10 14:17:00              31   \n",
       "1   131009 2015-01-24 12:29:00 2015-04-13 04:53:00              31   \n",
       "2   328855 2015-03-11 00:54:00 2015-04-05 12:23:00              16   \n",
       "3   229053 2015-01-07 13:19:00 2015-01-09 10:12:00              29   \n",
       "4   108439 2015-02-08 21:11:00 2015-04-09 14:26:00              26   \n",
       "\n",
       "       device_id  source  browser sex  age    ip_address  class  \\\n",
       "0  HZAKVUFTDOSFD  Direct   Chrome   M   49  2.818400e+09      0   \n",
       "1  XGQAJSOUJIZCC     SEO       IE   F   21  3.251268e+09      0   \n",
       "2  VCCTAYDCWKZIY  Direct       IE   M   26  2.727760e+09      0   \n",
       "3  MFFIHYNXCJLEY     SEO   Chrome   M   34  2.083420e+09      0   \n",
       "4  WMSXWGVPNIFBM     Ads  FireFox   M   33  3.207913e+09      0   \n",
       "\n",
       "             country  time_difference  devices_used_count  \n",
       "0      United States            51540                   2  \n",
       "1     United Kingdom            27360                   1  \n",
       "2      United States            45060                   1  \n",
       "3  Korea Republic of            11220                   1  \n",
       "4             Brazil            24300                   1  "
      ]
     },
     "execution_count": 21,
     "metadata": {},
     "output_type": "execute_result"
    }
   ],
   "source": [
    "df_transactions[\"devices_used_count\"] = df_transactions.groupby(\"device_id\")[\"user_id\"].transform(\"count\")\n",
    "df_transactions.head(5)"
   ]
  },
  {
   "cell_type": "code",
   "execution_count": 22,
   "metadata": {},
   "outputs": [
    {
     "data": {
      "image/png": "[encoded data removed]",
      "text/plain": [
       "<Figure size 360x288 with 1 Axes>"
      ]
     },
     "metadata": {},
     "output_type": "display_data"
    }
   ],
   "source": [
    "df_transactions.groupby('devices_used_count')\\\n",
    ".agg(count=('class', 'size'), fraud_ratio=('class', 'mean'))\\\n",
    ".reset_index()\\\n",
    ".sort_values(\"devices_used_count\").plot(\"devices_used_count\",\"fraud_ratio\",kind=\"bar\");\n"
   ]
  },
  {
   "cell_type": "markdown",
   "metadata": {},
   "source": [
    "#### Additonal Feature 3.\n",
    "- Number of different ip address used by same user-id\n",
    "- Same user_id using multiple ip address good indicator of fraud as it is rare and when it happens the fraud ratio is high"
   ]
  },
  {
   "cell_type": "code",
   "execution_count": 23,
   "metadata": {},
   "outputs": [
    {
     "data": {
      "text/html": [
       "<div>\n",
       "<style scoped>\n",
       "    .dataframe tbody tr th:only-of-type {\n",
       "        vertical-align: middle;\n",
       "    }\n",
       "\n",
       "    .dataframe tbody tr th {\n",
       "        vertical-align: top;\n",
       "    }\n",
       "\n",
       "    .dataframe thead th {\n",
       "        text-align: right;\n",
       "    }\n",
       "</style>\n",
       "<table border=\"1\" class=\"dataframe\">\n",
       "  <thead>\n",
       "    <tr style=\"text-align: right;\">\n",
       "      <th></th>\n",
       "      <th>user_id</th>\n",
       "      <th>signup_time</th>\n",
       "      <th>purchase_time</th>\n",
       "      <th>purchase_value</th>\n",
       "      <th>device_id</th>\n",
       "      <th>source</th>\n",
       "      <th>browser</th>\n",
       "      <th>sex</th>\n",
       "      <th>age</th>\n",
       "      <th>ip_address</th>\n",
       "      <th>class</th>\n",
       "      <th>country</th>\n",
       "      <th>time_difference</th>\n",
       "      <th>devices_used_count</th>\n",
       "      <th>multiple_ip_addrs</th>\n",
       "    </tr>\n",
       "  </thead>\n",
       "  <tbody>\n",
       "    <tr>\n",
       "      <th>0</th>\n",
       "      <td>285108</td>\n",
       "      <td>2015-07-15 04:36:00</td>\n",
       "      <td>2015-09-10 14:17:00</td>\n",
       "      <td>31</td>\n",
       "      <td>HZAKVUFTDOSFD</td>\n",
       "      <td>Direct</td>\n",
       "      <td>Chrome</td>\n",
       "      <td>M</td>\n",
       "      <td>49</td>\n",
       "      <td>2.818400e+09</td>\n",
       "      <td>0</td>\n",
       "      <td>United States</td>\n",
       "      <td>51540</td>\n",
       "      <td>2</td>\n",
       "      <td>1</td>\n",
       "    </tr>\n",
       "    <tr>\n",
       "      <th>1</th>\n",
       "      <td>131009</td>\n",
       "      <td>2015-01-24 12:29:00</td>\n",
       "      <td>2015-04-13 04:53:00</td>\n",
       "      <td>31</td>\n",
       "      <td>XGQAJSOUJIZCC</td>\n",
       "      <td>SEO</td>\n",
       "      <td>IE</td>\n",
       "      <td>F</td>\n",
       "      <td>21</td>\n",
       "      <td>3.251268e+09</td>\n",
       "      <td>0</td>\n",
       "      <td>United Kingdom</td>\n",
       "      <td>27360</td>\n",
       "      <td>1</td>\n",
       "      <td>1</td>\n",
       "    </tr>\n",
       "    <tr>\n",
       "      <th>2</th>\n",
       "      <td>328855</td>\n",
       "      <td>2015-03-11 00:54:00</td>\n",
       "      <td>2015-04-05 12:23:00</td>\n",
       "      <td>16</td>\n",
       "      <td>VCCTAYDCWKZIY</td>\n",
       "      <td>Direct</td>\n",
       "      <td>IE</td>\n",
       "      <td>M</td>\n",
       "      <td>26</td>\n",
       "      <td>2.727760e+09</td>\n",
       "      <td>0</td>\n",
       "      <td>United States</td>\n",
       "      <td>45060</td>\n",
       "      <td>1</td>\n",
       "      <td>1</td>\n",
       "    </tr>\n",
       "    <tr>\n",
       "      <th>3</th>\n",
       "      <td>229053</td>\n",
       "      <td>2015-01-07 13:19:00</td>\n",
       "      <td>2015-01-09 10:12:00</td>\n",
       "      <td>29</td>\n",
       "      <td>MFFIHYNXCJLEY</td>\n",
       "      <td>SEO</td>\n",
       "      <td>Chrome</td>\n",
       "      <td>M</td>\n",
       "      <td>34</td>\n",
       "      <td>2.083420e+09</td>\n",
       "      <td>0</td>\n",
       "      <td>Korea Republic of</td>\n",
       "      <td>11220</td>\n",
       "      <td>1</td>\n",
       "      <td>1</td>\n",
       "    </tr>\n",
       "    <tr>\n",
       "      <th>4</th>\n",
       "      <td>108439</td>\n",
       "      <td>2015-02-08 21:11:00</td>\n",
       "      <td>2015-04-09 14:26:00</td>\n",
       "      <td>26</td>\n",
       "      <td>WMSXWGVPNIFBM</td>\n",
       "      <td>Ads</td>\n",
       "      <td>FireFox</td>\n",
       "      <td>M</td>\n",
       "      <td>33</td>\n",
       "      <td>3.207913e+09</td>\n",
       "      <td>0</td>\n",
       "      <td>Brazil</td>\n",
       "      <td>24300</td>\n",
       "      <td>1</td>\n",
       "      <td>1</td>\n",
       "    </tr>\n",
       "  </tbody>\n",
       "</table>\n",
       "</div>"
      ],
      "text/plain": [
       "   user_id         signup_time       purchase_time  purchase_value  \\\n",
       "0   285108 2015-07-15 04:36:00 2015-09-10 14:17:00              31   \n",
       "1   131009 2015-01-24 12:29:00 2015-04-13 04:53:00              31   \n",
       "2   328855 2015-03-11 00:54:00 2015-04-05 12:23:00              16   \n",
       "3   229053 2015-01-07 13:19:00 2015-01-09 10:12:00              29   \n",
       "4   108439 2015-02-08 21:11:00 2015-04-09 14:26:00              26   \n",
       "\n",
       "       device_id  source  browser sex  age    ip_address  class  \\\n",
       "0  HZAKVUFTDOSFD  Direct   Chrome   M   49  2.818400e+09      0   \n",
       "1  XGQAJSOUJIZCC     SEO       IE   F   21  3.251268e+09      0   \n",
       "2  VCCTAYDCWKZIY  Direct       IE   M   26  2.727760e+09      0   \n",
       "3  MFFIHYNXCJLEY     SEO   Chrome   M   34  2.083420e+09      0   \n",
       "4  WMSXWGVPNIFBM     Ads  FireFox   M   33  3.207913e+09      0   \n",
       "\n",
       "             country  time_difference  devices_used_count  multiple_ip_addrs  \n",
       "0      United States            51540                   2                  1  \n",
       "1     United Kingdom            27360                   1                  1  \n",
       "2      United States            45060                   1                  1  \n",
       "3  Korea Republic of            11220                   1                  1  \n",
       "4             Brazil            24300                   1                  1  "
      ]
     },
     "execution_count": 23,
     "metadata": {},
     "output_type": "execute_result"
    }
   ],
   "source": [
    "# Check user number for unique ip_address\n",
    "df_transactions[\"multiple_ip_addrs\"] = df_transactions.groupby(\"ip_address\")[\"user_id\"].transform(\"count\")\n",
    "df_transactions.head(5)"
   ]
  },
  {
   "cell_type": "code",
   "execution_count": 24,
   "metadata": {},
   "outputs": [
    {
     "data": {
      "image/png": "[encoded data removed]",
      "text/plain": [
       "<Figure size 360x288 with 1 Axes>"
      ]
     },
     "metadata": {},
     "output_type": "display_data"
    }
   ],
   "source": [
    "df_transactions.groupby('multiple_ip_addrs')\\\n",
    ".agg(count=('class', 'size'), fraud_ratio=('class', 'mean'))\\\n",
    ".reset_index()\\\n",
    ".sort_values(\"multiple_ip_addrs\").plot(\"multiple_ip_addrs\",\"fraud_ratio\",kind=\"bar\");"
   ]
  },
  {
   "cell_type": "markdown",
   "metadata": {},
   "source": [
    "#### Additional features 4 & 5: \"signup_time\" based additional features :\n",
    "- Signup time: day\n",
    "    - Less likely to get a fraudulent transaction on Wednesday and Tuesday (middle of a week) compared to other weeks\n",
    "- Signup time: week number\n",
    "    - High chances of fraud to occur during the starting weeks of an year"
   ]
  },
  {
   "cell_type": "code",
   "execution_count": 25,
   "metadata": {},
   "outputs": [
    {
     "data": {
      "text/html": [
       "<div>\n",
       "<style scoped>\n",
       "    .dataframe tbody tr th:only-of-type {\n",
       "        vertical-align: middle;\n",
       "    }\n",
       "\n",
       "    .dataframe tbody tr th {\n",
       "        vertical-align: top;\n",
       "    }\n",
       "\n",
       "    .dataframe thead th {\n",
       "        text-align: right;\n",
       "    }\n",
       "</style>\n",
       "<table border=\"1\" class=\"dataframe\">\n",
       "  <thead>\n",
       "    <tr style=\"text-align: right;\">\n",
       "      <th></th>\n",
       "      <th>user_id</th>\n",
       "      <th>signup_time</th>\n",
       "      <th>purchase_time</th>\n",
       "      <th>purchase_value</th>\n",
       "      <th>device_id</th>\n",
       "      <th>source</th>\n",
       "      <th>browser</th>\n",
       "      <th>sex</th>\n",
       "      <th>age</th>\n",
       "      <th>ip_address</th>\n",
       "      <th>class</th>\n",
       "      <th>country</th>\n",
       "      <th>time_difference</th>\n",
       "      <th>devices_used_count</th>\n",
       "      <th>multiple_ip_addrs</th>\n",
       "      <th>signup_time_day</th>\n",
       "      <th>signup_time_week</th>\n",
       "    </tr>\n",
       "  </thead>\n",
       "  <tbody>\n",
       "    <tr>\n",
       "      <th>0</th>\n",
       "      <td>285108</td>\n",
       "      <td>2015-07-15 04:36:00</td>\n",
       "      <td>2015-09-10 14:17:00</td>\n",
       "      <td>31</td>\n",
       "      <td>HZAKVUFTDOSFD</td>\n",
       "      <td>Direct</td>\n",
       "      <td>Chrome</td>\n",
       "      <td>M</td>\n",
       "      <td>49</td>\n",
       "      <td>2.818400e+09</td>\n",
       "      <td>0</td>\n",
       "      <td>United States</td>\n",
       "      <td>51540</td>\n",
       "      <td>2</td>\n",
       "      <td>1</td>\n",
       "      <td>Wednesday</td>\n",
       "      <td>29</td>\n",
       "    </tr>\n",
       "    <tr>\n",
       "      <th>1</th>\n",
       "      <td>131009</td>\n",
       "      <td>2015-01-24 12:29:00</td>\n",
       "      <td>2015-04-13 04:53:00</td>\n",
       "      <td>31</td>\n",
       "      <td>XGQAJSOUJIZCC</td>\n",
       "      <td>SEO</td>\n",
       "      <td>IE</td>\n",
       "      <td>F</td>\n",
       "      <td>21</td>\n",
       "      <td>3.251268e+09</td>\n",
       "      <td>0</td>\n",
       "      <td>United Kingdom</td>\n",
       "      <td>27360</td>\n",
       "      <td>1</td>\n",
       "      <td>1</td>\n",
       "      <td>Saturday</td>\n",
       "      <td>4</td>\n",
       "    </tr>\n",
       "    <tr>\n",
       "      <th>2</th>\n",
       "      <td>328855</td>\n",
       "      <td>2015-03-11 00:54:00</td>\n",
       "      <td>2015-04-05 12:23:00</td>\n",
       "      <td>16</td>\n",
       "      <td>VCCTAYDCWKZIY</td>\n",
       "      <td>Direct</td>\n",
       "      <td>IE</td>\n",
       "      <td>M</td>\n",
       "      <td>26</td>\n",
       "      <td>2.727760e+09</td>\n",
       "      <td>0</td>\n",
       "      <td>United States</td>\n",
       "      <td>45060</td>\n",
       "      <td>1</td>\n",
       "      <td>1</td>\n",
       "      <td>Wednesday</td>\n",
       "      <td>11</td>\n",
       "    </tr>\n",
       "    <tr>\n",
       "      <th>3</th>\n",
       "      <td>229053</td>\n",
       "      <td>2015-01-07 13:19:00</td>\n",
       "      <td>2015-01-09 10:12:00</td>\n",
       "      <td>29</td>\n",
       "      <td>MFFIHYNXCJLEY</td>\n",
       "      <td>SEO</td>\n",
       "      <td>Chrome</td>\n",
       "      <td>M</td>\n",
       "      <td>34</td>\n",
       "      <td>2.083420e+09</td>\n",
       "      <td>0</td>\n",
       "      <td>Korea Republic of</td>\n",
       "      <td>11220</td>\n",
       "      <td>1</td>\n",
       "      <td>1</td>\n",
       "      <td>Wednesday</td>\n",
       "      <td>2</td>\n",
       "    </tr>\n",
       "    <tr>\n",
       "      <th>4</th>\n",
       "      <td>108439</td>\n",
       "      <td>2015-02-08 21:11:00</td>\n",
       "      <td>2015-04-09 14:26:00</td>\n",
       "      <td>26</td>\n",
       "      <td>WMSXWGVPNIFBM</td>\n",
       "      <td>Ads</td>\n",
       "      <td>FireFox</td>\n",
       "      <td>M</td>\n",
       "      <td>33</td>\n",
       "      <td>3.207913e+09</td>\n",
       "      <td>0</td>\n",
       "      <td>Brazil</td>\n",
       "      <td>24300</td>\n",
       "      <td>1</td>\n",
       "      <td>1</td>\n",
       "      <td>Sunday</td>\n",
       "      <td>6</td>\n",
       "    </tr>\n",
       "  </tbody>\n",
       "</table>\n",
       "</div>"
      ],
      "text/plain": [
       "   user_id         signup_time       purchase_time  purchase_value  \\\n",
       "0   285108 2015-07-15 04:36:00 2015-09-10 14:17:00              31   \n",
       "1   131009 2015-01-24 12:29:00 2015-04-13 04:53:00              31   \n",
       "2   328855 2015-03-11 00:54:00 2015-04-05 12:23:00              16   \n",
       "3   229053 2015-01-07 13:19:00 2015-01-09 10:12:00              29   \n",
       "4   108439 2015-02-08 21:11:00 2015-04-09 14:26:00              26   \n",
       "\n",
       "       device_id  source  browser sex  age    ip_address  class  \\\n",
       "0  HZAKVUFTDOSFD  Direct   Chrome   M   49  2.818400e+09      0   \n",
       "1  XGQAJSOUJIZCC     SEO       IE   F   21  3.251268e+09      0   \n",
       "2  VCCTAYDCWKZIY  Direct       IE   M   26  2.727760e+09      0   \n",
       "3  MFFIHYNXCJLEY     SEO   Chrome   M   34  2.083420e+09      0   \n",
       "4  WMSXWGVPNIFBM     Ads  FireFox   M   33  3.207913e+09      0   \n",
       "\n",
       "             country  time_difference  devices_used_count  multiple_ip_addrs  \\\n",
       "0      United States            51540                   2                  1   \n",
       "1     United Kingdom            27360                   1                  1   \n",
       "2      United States            45060                   1                  1   \n",
       "3  Korea Republic of            11220                   1                  1   \n",
       "4             Brazil            24300                   1                  1   \n",
       "\n",
       "  signup_time_day  signup_time_week  \n",
       "0       Wednesday                29  \n",
       "1        Saturday                 4  \n",
       "2       Wednesday                11  \n",
       "3       Wednesday                 2  \n",
       "4          Sunday                 6  "
      ]
     },
     "execution_count": 25,
     "metadata": {},
     "output_type": "execute_result"
    }
   ],
   "source": [
    "# Signup time features\n",
    "df_transactions['signup_time_day'] = df_transactions['signup_time'].apply(lambda x: x.day_name())\n",
    "df_transactions['signup_time_week'] = df_transactions['signup_time'].apply(lambda x: x.week)\n",
    "\n",
    "df_transactions.head(5)"
   ]
  },
  {
   "cell_type": "code",
   "execution_count": 26,
   "metadata": {},
   "outputs": [
    {
     "data": {
      "image/png": "[encoded data removed]",
      "text/plain": [
       "<Figure size 360x288 with 1 Axes>"
      ]
     },
     "metadata": {},
     "output_type": "display_data"
    },
    {
     "data": {
      "image/png": "[encoded data removed]",
      "text/plain": [
       "<Figure size 360x288 with 1 Axes>"
      ]
     },
     "metadata": {},
     "output_type": "display_data"
    }
   ],
   "source": [
    "df_transactions.groupby('signup_time_day')\\\n",
    ".agg(count=('class', 'size'), fraud_ratio=('class', 'mean'))\\\n",
    ".reset_index()\\\n",
    ".sort_values(\"signup_time_day\").plot(\"signup_time_day\",\"fraud_ratio\",kind=\"bar\");\n",
    "\n",
    "df_transactions.groupby('signup_time_week')\\\n",
    ".agg(count=('class', 'size'), fraud_ratio=('class', 'mean'))\\\n",
    ".reset_index()\\\n",
    ".sort_values(\"signup_time_week\").plot(\"signup_time_week\",\"fraud_ratio\",kind=\"line\");"
   ]
  },
  {
   "cell_type": "markdown",
   "metadata": {},
   "source": [
    "#### Additional features 6 & 7: \"purchase_time\" based additional features :\n",
    "- Purchase time: day\n",
    "- Purchase time: week number\n",
    "- Same patterns of signup date features occur in purchase time as well\n"
   ]
  },
  {
   "cell_type": "code",
   "execution_count": 27,
   "metadata": {},
   "outputs": [
    {
     "data": {
      "text/html": [
       "<div>\n",
       "<style scoped>\n",
       "    .dataframe tbody tr th:only-of-type {\n",
       "        vertical-align: middle;\n",
       "    }\n",
       "\n",
       "    .dataframe tbody tr th {\n",
       "        vertical-align: top;\n",
       "    }\n",
       "\n",
       "    .dataframe thead th {\n",
       "        text-align: right;\n",
       "    }\n",
       "</style>\n",
       "<table border=\"1\" class=\"dataframe\">\n",
       "  <thead>\n",
       "    <tr style=\"text-align: right;\">\n",
       "      <th></th>\n",
       "      <th>user_id</th>\n",
       "      <th>signup_time</th>\n",
       "      <th>purchase_time</th>\n",
       "      <th>purchase_value</th>\n",
       "      <th>device_id</th>\n",
       "      <th>source</th>\n",
       "      <th>browser</th>\n",
       "      <th>sex</th>\n",
       "      <th>age</th>\n",
       "      <th>ip_address</th>\n",
       "      <th>class</th>\n",
       "      <th>country</th>\n",
       "      <th>time_difference</th>\n",
       "      <th>devices_used_count</th>\n",
       "      <th>multiple_ip_addrs</th>\n",
       "      <th>signup_time_day</th>\n",
       "      <th>signup_time_week</th>\n",
       "      <th>purchase_time_day</th>\n",
       "      <th>purchase_time_week</th>\n",
       "    </tr>\n",
       "  </thead>\n",
       "  <tbody>\n",
       "    <tr>\n",
       "      <th>0</th>\n",
       "      <td>285108</td>\n",
       "      <td>2015-07-15 04:36:00</td>\n",
       "      <td>2015-09-10 14:17:00</td>\n",
       "      <td>31</td>\n",
       "      <td>HZAKVUFTDOSFD</td>\n",
       "      <td>Direct</td>\n",
       "      <td>Chrome</td>\n",
       "      <td>M</td>\n",
       "      <td>49</td>\n",
       "      <td>2.818400e+09</td>\n",
       "      <td>0</td>\n",
       "      <td>United States</td>\n",
       "      <td>51540</td>\n",
       "      <td>2</td>\n",
       "      <td>1</td>\n",
       "      <td>Wednesday</td>\n",
       "      <td>29</td>\n",
       "      <td>Thursday</td>\n",
       "      <td>37</td>\n",
       "    </tr>\n",
       "    <tr>\n",
       "      <th>1</th>\n",
       "      <td>131009</td>\n",
       "      <td>2015-01-24 12:29:00</td>\n",
       "      <td>2015-04-13 04:53:00</td>\n",
       "      <td>31</td>\n",
       "      <td>XGQAJSOUJIZCC</td>\n",
       "      <td>SEO</td>\n",
       "      <td>IE</td>\n",
       "      <td>F</td>\n",
       "      <td>21</td>\n",
       "      <td>3.251268e+09</td>\n",
       "      <td>0</td>\n",
       "      <td>United Kingdom</td>\n",
       "      <td>27360</td>\n",
       "      <td>1</td>\n",
       "      <td>1</td>\n",
       "      <td>Saturday</td>\n",
       "      <td>4</td>\n",
       "      <td>Monday</td>\n",
       "      <td>16</td>\n",
       "    </tr>\n",
       "    <tr>\n",
       "      <th>2</th>\n",
       "      <td>328855</td>\n",
       "      <td>2015-03-11 00:54:00</td>\n",
       "      <td>2015-04-05 12:23:00</td>\n",
       "      <td>16</td>\n",
       "      <td>VCCTAYDCWKZIY</td>\n",
       "      <td>Direct</td>\n",
       "      <td>IE</td>\n",
       "      <td>M</td>\n",
       "      <td>26</td>\n",
       "      <td>2.727760e+09</td>\n",
       "      <td>0</td>\n",
       "      <td>United States</td>\n",
       "      <td>45060</td>\n",
       "      <td>1</td>\n",
       "      <td>1</td>\n",
       "      <td>Wednesday</td>\n",
       "      <td>11</td>\n",
       "      <td>Sunday</td>\n",
       "      <td>14</td>\n",
       "    </tr>\n",
       "    <tr>\n",
       "      <th>3</th>\n",
       "      <td>229053</td>\n",
       "      <td>2015-01-07 13:19:00</td>\n",
       "      <td>2015-01-09 10:12:00</td>\n",
       "      <td>29</td>\n",
       "      <td>MFFIHYNXCJLEY</td>\n",
       "      <td>SEO</td>\n",
       "      <td>Chrome</td>\n",
       "      <td>M</td>\n",
       "      <td>34</td>\n",
       "      <td>2.083420e+09</td>\n",
       "      <td>0</td>\n",
       "      <td>Korea Republic of</td>\n",
       "      <td>11220</td>\n",
       "      <td>1</td>\n",
       "      <td>1</td>\n",
       "      <td>Wednesday</td>\n",
       "      <td>2</td>\n",
       "      <td>Friday</td>\n",
       "      <td>2</td>\n",
       "    </tr>\n",
       "    <tr>\n",
       "      <th>4</th>\n",
       "      <td>108439</td>\n",
       "      <td>2015-02-08 21:11:00</td>\n",
       "      <td>2015-04-09 14:26:00</td>\n",
       "      <td>26</td>\n",
       "      <td>WMSXWGVPNIFBM</td>\n",
       "      <td>Ads</td>\n",
       "      <td>FireFox</td>\n",
       "      <td>M</td>\n",
       "      <td>33</td>\n",
       "      <td>3.207913e+09</td>\n",
       "      <td>0</td>\n",
       "      <td>Brazil</td>\n",
       "      <td>24300</td>\n",
       "      <td>1</td>\n",
       "      <td>1</td>\n",
       "      <td>Sunday</td>\n",
       "      <td>6</td>\n",
       "      <td>Thursday</td>\n",
       "      <td>15</td>\n",
       "    </tr>\n",
       "  </tbody>\n",
       "</table>\n",
       "</div>"
      ],
      "text/plain": [
       "   user_id         signup_time       purchase_time  purchase_value  \\\n",
       "0   285108 2015-07-15 04:36:00 2015-09-10 14:17:00              31   \n",
       "1   131009 2015-01-24 12:29:00 2015-04-13 04:53:00              31   \n",
       "2   328855 2015-03-11 00:54:00 2015-04-05 12:23:00              16   \n",
       "3   229053 2015-01-07 13:19:00 2015-01-09 10:12:00              29   \n",
       "4   108439 2015-02-08 21:11:00 2015-04-09 14:26:00              26   \n",
       "\n",
       "       device_id  source  browser sex  age    ip_address  class  \\\n",
       "0  HZAKVUFTDOSFD  Direct   Chrome   M   49  2.818400e+09      0   \n",
       "1  XGQAJSOUJIZCC     SEO       IE   F   21  3.251268e+09      0   \n",
       "2  VCCTAYDCWKZIY  Direct       IE   M   26  2.727760e+09      0   \n",
       "3  MFFIHYNXCJLEY     SEO   Chrome   M   34  2.083420e+09      0   \n",
       "4  WMSXWGVPNIFBM     Ads  FireFox   M   33  3.207913e+09      0   \n",
       "\n",
       "             country  time_difference  devices_used_count  multiple_ip_addrs  \\\n",
       "0      United States            51540                   2                  1   \n",
       "1     United Kingdom            27360                   1                  1   \n",
       "2      United States            45060                   1                  1   \n",
       "3  Korea Republic of            11220                   1                  1   \n",
       "4             Brazil            24300                   1                  1   \n",
       "\n",
       "  signup_time_day  signup_time_week purchase_time_day  purchase_time_week  \n",
       "0       Wednesday                29          Thursday                  37  \n",
       "1        Saturday                 4            Monday                  16  \n",
       "2       Wednesday                11            Sunday                  14  \n",
       "3       Wednesday                 2            Friday                   2  \n",
       "4          Sunday                 6          Thursday                  15  "
      ]
     },
     "execution_count": 27,
     "metadata": {},
     "output_type": "execute_result"
    }
   ],
   "source": [
    "# Purchase time features\n",
    "df_transactions['purchase_time_day'] = df_transactions['purchase_time'].apply(lambda x: x.day_name())\n",
    "df_transactions['purchase_time_week'] = df_transactions['purchase_time'].apply(lambda x: x.week)\n",
    "\n",
    "df_transactions.head(5)"
   ]
  },
  {
   "cell_type": "code",
   "execution_count": 28,
   "metadata": {},
   "outputs": [
    {
     "data": {
      "image/png": "[encoded data removed]",
      "text/plain": [
       "<Figure size 360x288 with 1 Axes>"
      ]
     },
     "metadata": {},
     "output_type": "display_data"
    },
    {
     "data": {
      "image/png": "[encoded data removed]",
      "text/plain": [
       "<Figure size 360x288 with 1 Axes>"
      ]
     },
     "metadata": {},
     "output_type": "display_data"
    }
   ],
   "source": [
    "df_transactions.groupby('purchase_time_day')\\\n",
    ".agg(count=('class', 'size'), fraud_ratio=('class', 'mean'))\\\n",
    ".reset_index()\\\n",
    ".sort_values(\"purchase_time_day\").plot(\"purchase_time_day\",\"fraud_ratio\",kind=\"bar\");\n",
    "\n",
    "df_transactions.groupby('purchase_time_week')\\\n",
    ".agg(count=('class', 'size'), fraud_ratio=('class', 'mean'))\\\n",
    ".reset_index()\\\n",
    ".sort_values(\"purchase_time_week\").plot(\"purchase_time_week\",\"fraud_ratio\",kind=\"line\");"
   ]
  },
  {
   "cell_type": "markdown",
   "metadata": {},
   "source": [
    "#### Correlation plot\n",
    " - \"devices_used_count\" and \"multiple_ip_addrs\" features are strongly and positively correlated to target label\n",
    " - \"devices_used_count\" and \"multiple_ip_addrs\" are collinear and redundant features\n",
    " - \"time_difference\", \"signup_time_week\" and \"purchase_time_week\" are negatively correlated to target label\n",
    " - \"signup_time_week\" and \"purchase_time_week\" are collinear and redundant features"
   ]
  },
  {
   "cell_type": "code",
   "execution_count": 29,
   "metadata": {},
   "outputs": [
    {
     "data": {
      "image/png": "[encoded data removed]",
      "text/plain": [
       "<Figure size 1152x432 with 2 Axes>"
      ]
     },
     "metadata": {},
     "output_type": "display_data"
    }
   ],
   "source": [
    "corr_matrix = df_transactions.corr()\n",
    "\n",
    "mask = np.triu(np.ones_like(corr_matrix, dtype=np.bool))\n",
    "\n",
    "plt.figure(figsize=(16, 6))\n",
    "heatmap = sns.heatmap(corr_matrix, mask=mask, vmin=-1, vmax=1, annot=True, cmap='BrBG');\n",
    "heatmap.set_title('Correlation Heatmap', fontdict={'fontsize':12}, pad=12);"
   ]
  },
  {
   "cell_type": "code",
   "execution_count": null,
   "metadata": {},
   "outputs": [],
   "source": []
  }
 ],
 "metadata": {
  "kernelspec": {
   "display_name": "Python 3",
   "language": "python",
   "name": "python3"
  },
  "language_info": {
   "codemirror_mode": {
    "name": "ipython",
    "version": 3
   },
   "file_extension": ".py",
   "mimetype": "text/x-python",
   "name": "python",
   "nbconvert_exporter": "python",
   "pygments_lexer": "ipython3",
   "version": "3.8.5"
  }
 },
 "nbformat": 4,
 "nbformat_minor": 4
}
